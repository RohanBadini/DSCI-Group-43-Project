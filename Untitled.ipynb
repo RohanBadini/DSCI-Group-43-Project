{
 "cells": [
  {
   "cell_type": "markdown",
   "id": "4b43ee64-e2a5-45c6-96ac-ec0288b369b2",
   "metadata": {},
   "source": [
    "### Group ..."
   ]
  },
  {
   "cell_type": "code",
   "execution_count": null,
   "id": "9e5f6cd1-92ac-44e0-8836-dc0876abba5d",
   "metadata": {},
   "outputs": [],
   "source": []
  }
 ],
 "metadata": {
  "kernelspec": {
   "display_name": "R",
   "language": "R",
   "name": "ir"
  },
  "language_info": {
   "codemirror_mode": "r",
   "file_extension": ".r",
   "mimetype": "text/x-r-source",
   "name": "R",
   "pygments_lexer": "r",
   "version": "4.1.3"
  }
 },
 "nbformat": 4,
 "nbformat_minor": 5
}
